{
  "cells": [
    {
      "attachments": {},
      "cell_type": "markdown",
      "metadata": {
        "id": "D0K4FzCRa9oS"
      },
      "source": [
        "# Initialize"
      ]
    },
    {
      "cell_type": "code",
      "execution_count": 1,
      "metadata": {
        "colab": {
          "base_uri": "https://localhost:8080/"
        },
        "id": "tMwiFXXRaALy",
        "outputId": "b2bd8bb2-a201-4102-df8d-5d87c3aca863"
      },
      "outputs": [
        {
          "name": "stdout",
          "output_type": "stream",
          "text": [
            "Drive already mounted at /content/drive; to attempt to forcibly remount, call drive.mount(\"/content/drive\", force_remount=True).\n"
          ]
        }
      ],
      "source": [
        "from google.colab import drive\n",
        "drive.mount('/content/drive')"
      ]
    },
    {
      "cell_type": "code",
      "execution_count": null,
      "metadata": {
        "colab": {
          "base_uri": "https://localhost:8080/"
        },
        "id": "2eewL8dQbzqd",
        "outputId": "f7bac285-bfd7-44a9-dfa4-19261dc9e9ea"
      },
      "outputs": [],
      "source": [
        "# find packages'version before Apr 25 (article public)\n",
        "!pip install langchain==0.0.147 python-dotenv huggingface_hub==0.14.0 sentence_transformers==2.2.2 youtube-transcript-api==0.6.0 pytube==12.1.3 faiss-cpu==1.7.4"
      ]
    },
    {
      "attachments": {},
      "cell_type": "markdown",
      "metadata": {
        "id": "pGNmu9TRtNLp"
      },
      "source": [
        "- Source: [Getting Started with LangChain: A Beginner’s Guide to Building LLM-Powered Applications](https://towardsdatascience.com/getting-started-with-langchain-a-beginners-guide-to-building-llm-powered-applications-95fc8898732c#b842) - *Leonie Monigatti*"
      ]
    },
    {
      "attachments": {},
      "cell_type": "markdown",
      "metadata": {
        "id": "wR-wMRCHru2Q"
      },
      "source": [
        "- [ ] Watch next: [ LangChain - Using Hugging Face Models locally (code walkthrough) ](https://www.youtube.com/watch?v=Kn7SX2Mx_Jk)\n",
        "  - [ ] try Blenderbot"
      ]
    },
    {
      "attachments": {},
      "cell_type": "markdown",
      "metadata": {
        "id": "BZ1xRRUda0P-"
      },
      "source": [
        "# Logging, test"
      ]
    },
    {
      "cell_type": "code",
      "execution_count": null,
      "metadata": {
        "colab": {
          "base_uri": "https://localhost:8080/"
        },
        "id": "9jNQjw9q2TXq",
        "outputId": "10280cee-1a37-4631-a0e3-609c52baec29"
      },
      "outputs": [],
      "source": [
        "envfile = open(\"/content/drive/My Drive/Colab Files/.env\", \"r\")\n",
        "print(envfile.read())\n",
        "envfile.close()"
      ]
    },
    {
      "cell_type": "code",
      "execution_count": null,
      "metadata": {
        "colab": {
          "base_uri": "https://localhost:8080/"
        },
        "id": "jBsSrrwNbNUO",
        "outputId": "38eda4f5-4135-4813-91fb-0b21656f382b"
      },
      "outputs": [],
      "source": [
        "envfile = open(\"/content/drive/My Drive/Colab Files/requirements.txt\", \"r\")\n",
        "print(envfile.read())\n",
        "envfile.close()"
      ]
    },
    {
      "cell_type": "code",
      "execution_count": null,
      "metadata": {
        "colab": {
          "base_uri": "https://localhost:8080/"
        },
        "id": "gzowNg1BowWl",
        "outputId": "824cb8ca-8c8d-4ab1-993d-c7bb27617379"
      },
      "outputs": [],
      "source": [
        "!pip list"
      ]
    },
    {
      "attachments": {},
      "cell_type": "markdown",
      "metadata": {
        "id": "Bn4palQCbJEW"
      },
      "source": [
        "# Execution (HF inference APIs with HFHub)"
      ]
    },
    {
      "cell_type": "code",
      "execution_count": 6,
      "metadata": {
        "colab": {
          "base_uri": "https://localhost:8080/"
        },
        "id": "wLCl2byNZaP1",
        "outputId": "6eb0b709-0c19-465f-e5af-a2d4cc2ead68"
      },
      "outputs": [
        {
          "data": {
            "text/plain": [
              "True"
            ]
          },
          "execution_count": 6,
          "metadata": {},
          "output_type": "execute_result"
        }
      ],
      "source": [
        "import os\n",
        "from dotenv import load_dotenv\n",
        "\n",
        "load_dotenv('/content/drive/My Drive/Colab Files/.env')"
      ]
    },
    {
      "cell_type": "code",
      "execution_count": 7,
      "metadata": {
        "colab": {
          "base_uri": "https://localhost:8080/"
        },
        "id": "zZ96oHZ-bkVE",
        "outputId": "50190a69-1ad1-4a1f-b352-79beef8651cf"
      },
      "outputs": [
        {
          "name": "stdout",
          "output_type": "stream",
          "text": [
            "parrot\n"
          ]
        }
      ],
      "source": [
        "# Alternatively, open-source LLM hosted on Hugging Face\n",
        "# pip install huggingface_hub\n",
        "from langchain import HuggingFaceHub\n",
        "\n",
        "llm_model = \"google/flan-t5-large\"\n",
        "embed_model = \"sentence-transformers/all-MiniLM-L6-v2\"\n",
        "\n",
        "llm = HuggingFaceHub(repo_id=llm_model)\n",
        "\n",
        "# The LLM takes a prompt as an input and outputs a completion\n",
        "prompt = \"Alice has a parrot. What animal is Alice's pet?\"\n",
        "completion = llm(prompt)\n",
        "\n",
        "print(completion)"
      ]
    },
    {
      "cell_type": "code",
      "execution_count": 8,
      "metadata": {
        "colab": {
          "base_uri": "https://localhost:8080/"
        },
        "id": "oV0Pf1XfmZ1k",
        "outputId": "01f83fbd-3f6d-4435-9b86-55a4774b37e0"
      },
      "outputs": [
        {
          "name": "stdout",
          "output_type": "stream",
          "text": [
            "[0.07190390676259995, 0.07759877294301987, -0.009208649396896362, 0.0561705157160759, -0.09020029753446579, 0.013322998769581318, 0.098457932472229, -0.09042120724916458, 0.07143571972846985, 0.012598483823239803, 0.031594615429639816, -0.0997156873345375, -0.011282620951533318, 0.00715700164437294, -0.004754439927637577, 0.0469106025993824, 0.011661778204143047, -0.06561293452978134, 0.037585847079753876, -0.0009845815366134048, -0.05514022335410118, 0.010666146874427795, 0.06513642519712448, 0.0041189673356711864, -0.028614958748221397, 0.07131151854991913, -0.02405756525695324, -0.028053177520632744, -0.0359695740044117, -0.05724122002720833, -0.059308696538209915, 0.02516922913491726, -0.003160704392939806, 0.008553335443139076, -0.043387722223997116, 0.01663794368505478, -0.007296689786016941, 0.027561135590076447, 0.14499451220035553, 0.04577790945768356, -0.003844153368845582, -0.06782859563827515, 0.008425702340900898, -0.08002766221761703, -0.06505830585956573, 0.02018439583480358, -0.01575937122106552, 0.03476350009441376, 0.06585245579481125, -0.05817721411585808, -0.05628709867596626, -0.033433180302381516, -0.14577104151248932, 0.01180444285273552, 0.01691712625324726, 0.03459075465798378, -0.01211605966091156, -0.01656797155737877, -0.03306478634476662, -0.022022463381290436, -0.004324204288423061, 0.030910206958651543, -0.005625186488032341, 0.12630929052829742, -0.03018888086080551, -0.03750636801123619, -0.09861470758914948, -0.028205446898937225, -0.010701547376811504, -0.014376864768564701, 0.008325791917741299, -0.0001425795489922166, -0.008112043142318726, -0.07998320460319519, -0.012530822306871414, -0.06980745494365692, 0.07358183711767197, -0.04070670157670975, 0.09071555733680725, 0.006898466031998396, -0.06997250765562057, -0.032083213329315186, 0.01663687825202942, -0.013363443315029144, 0.043432123959064484, 0.051182471215724945, 0.0271817147731781, -0.0002544473682064563, -0.20446574687957764, -0.0744778960943222, -0.0033126298803836107, -0.07710275053977966, 0.043963558971881866, 0.011652305722236633, 0.06697206944227219, -0.00018584814097266644, 0.009378802962601185, -0.03852681815624237, -0.08988118916749954, 0.08431430160999298, 0.051298562437295914, 0.021951161324977875, 0.07179784029722214, -0.015051555819809437, 0.045970551669597626, 0.013203814625740051, -0.023149242624640465, 0.007096439134329557, 0.04030865430831909, -0.025797178968787193, -0.04500526562333107, -0.1163136214017868, -0.004245881922543049, 0.03334689140319824, 0.03720429912209511, 0.03916829824447632, 0.026955047622323036, 0.021193640306591988, -0.012237556278705597, 0.017814641818404198, 0.051563479006290436, -0.050493765622377396, 0.049061425030231476, 0.04204835370182991, 0.053560659289360046, 0.006081831641495228, -0.047661446034908295, -4.652256196301275e-33, 0.027821745723485947, -0.055302929133176804, 0.06158534809947014, -0.011745414696633816, 0.11292829364538193, 0.02611507661640644, -0.023931903764605522, 0.05385107919573784, -0.04694356024265289, 0.035229187458753586, -0.04097108542919159, -0.048513852059841156, -0.07501806318759918, -0.030836546793580055, 0.02083076350390911, 0.06847607344388962, -0.05949597433209419, 0.06566588580608368, -0.0007242386927828193, -0.014839823357760906, 0.01889817975461483, 0.07595895230770111, -0.009457394480705261, 0.06306502223014832, 0.03725399076938629, -0.049229685217142105, 0.04543540999293327, -0.12445631623268127, 0.019204845651984215, 0.031222818419337273, 0.016962861642241478, 0.025864548981189728, -0.06404264271259308, 0.034460920840501785, -0.12106738984584808, -0.021936556324362755, 0.008449237793684006, -0.10035695135593414, -0.0332765057682991, 0.003983722999691963, 0.04937075823545456, -0.07270599156618118, 0.12210577726364136, -0.0035380336921662092, -0.03610675781965256, -0.052144721150398254, -0.02440381981432438, 0.0004069629358127713, -0.008188009262084961, 0.10965884476900101, 0.049150802195072174, 0.0015407375758513808, 0.01631775312125683, 0.0003596773312892765, -0.024695606902241707, -0.02705523930490017, 0.005296261981129646, 0.05173242464661598, -0.033875931054353714, 0.08158428221940994, -0.02093031071126461, -0.0030004780273884535, 0.06492068618535995, -0.029812464490532875, 0.09617504477500916, -0.03861159831285477, -0.020590608939528465, -0.039740562438964844, 0.038864102214574814, 0.05497266352176666, 0.038407742977142334, -0.0206830482929945, 0.06816927343606949, -0.09513159841299057, -0.04733525589108467, -0.005811548326164484, -0.01629931479692459, 0.013358098454773426, 0.0038058769423514605, -0.042069241404533386, 0.014431081712245941, 0.06322519481182098, 0.027346109971404076, 0.045259296894073486, -0.0952071025967598, -0.02354917861521244, 0.00127221189904958, -0.027428528293967247, 0.05357572063803673, -0.02977633848786354, -0.031131379306316376, 0.06564611941576004, -0.046893998980522156, -0.06847745180130005, 0.050993096083402634, 2.6736152485132447e-33, -0.049982182681560516, -0.018335316330194473, -0.0566568523645401, 0.04694383218884468, -0.005061190575361252, -0.028215281665325165, 0.0519695058465004, 0.06334150582551956, 0.020200448110699654, -0.02866966463625431, -0.0348992645740509, -0.005097047425806522, -0.02234143763780594, 0.00925539992749691, 0.06680145114660263, -0.015397639013826847, -0.0016998426290228963, -0.0682978630065918, 0.0675293356180191, -0.061346471309661865, -0.07955259829759598, -0.0020383624359965324, -0.007233740761876106, 0.03128795325756073, 0.05138169601559639, 0.06254343688488007, 0.07620863616466522, -0.04326137155294418, 0.01921856589615345, -0.06703440845012665, -0.06640747934579849, -0.044126350432634354, -0.03156111016869545, -0.03179166465997696, -0.013456723652780056, -0.008733176626265049, -0.0653587281703949, -0.03911019116640091, -0.09722355008125305, -0.04690474644303322, 0.09307369589805603, 0.0007229706388898194, 0.011507839895784855, 0.09178562462329865, 0.08220092952251434, -0.02766716480255127, -0.0035274012479931116, 0.024857651442289352, 0.06922981142997742, 0.020763149484992027, -0.0036876481026411057, -0.0882997140288353, 0.03725941851735115, -0.02318735234439373, 0.013859221711754799, 0.040039800107479095, 0.004241038579493761, 0.004108828026801348, 0.07790125906467438, -0.054859332740306854, -0.022170742973685265, 0.053814101964235306, -0.004046483896672726, 0.049433786422014236, -0.04608062654733658, -0.0061341761611402035, -0.07287636399269104, -0.03874989226460457, 0.02677103690803051, -0.05243363976478577, 0.07241055369377136, 0.08956541121006012, -0.07924473285675049, -0.07715178281068802, 0.02259594015777111, 0.13659898936748505, 0.015471028164029121, -0.0775485634803772, 0.026177097111940384, -0.0429246611893177, -0.06987978518009186, -0.0372953787446022, 0.0357678160071373, 0.035037729889154434, 0.01591513119637966, -0.07491447031497955, 0.031382400542497635, 0.06730804592370987, 0.016418060287833214, 0.06731420755386353, 0.023392679169774055, 0.05944596230983734, 0.05657927319407463, -0.09258054941892624, -0.05018152296543121, -1.5737057879050553e-08, -0.029762987047433853, 0.062351930886507034, -0.007123071234673262, -0.040200602263212204, 0.06492558866739273, 0.056083157658576965, 0.07533738017082214, -0.05233481898903847, -0.031433332711458206, 0.049786049872636795, -0.011031270027160645, -0.029887795448303223, 0.014638514257967472, 0.06293574720621109, 0.0855439156293869, 0.012865809723734856, 0.04942943528294563, -0.05874786898493767, -0.006947191897779703, 0.008680671453475952, -0.0646701231598854, -0.0037185666151344776, 0.05144384875893593, 0.0027394562494009733, -0.06530571728944778, -0.029247207567095757, -0.008596419356763363, 0.06131216511130333, 0.019195161759853363, 0.06689488887786865, -0.009968049824237823, 0.07228690385818481, -0.05482352897524834, 0.010047787800431252, 0.013921519741415977, -0.04960368573665619, -0.02123941481113434, -0.031086547300219536, 0.016902612522244453, -0.03643709793686867, -0.0020110709592700005, 0.0024147264193743467, -0.006661937106400728, -0.03337129205465317, 0.01636514812707901, -0.06267797201871872, 0.05260529741644859, -0.1326403170824051, -0.022192222997546196, -0.04340257868170738, -0.0065469807013869286, 0.018780333921313286, 0.04014541208744049, -0.0372760146856308, -0.0476035475730896, -0.04280860722064972, 0.025238657370209694, -0.04065857082605362, 0.011645546182990074, 0.0487603135406971, 0.050196465104818344, 0.07130840420722961, 0.05952656641602516, 0.016739925369620323]\n"
          ]
        }
      ],
      "source": [
        "# Alternatively, open-source text embedding model hosted on Hugging Face\n",
        "# pip install sentence_transformers\n",
        "from langchain.embeddings import HuggingFaceEmbeddings\n",
        "embeddings = HuggingFaceEmbeddings(model_name=embed_model)\n",
        "\n",
        "# The embeddings model takes a text as an input and outputs a list of floats\n",
        "text = \"Alice has a parrot. What animal is Alice's pet?\"\n",
        "text_embedding = embeddings.embed_query(text)\n",
        "print(text_embedding)"
      ]
    },
    {
      "cell_type": "code",
      "execution_count": 9,
      "metadata": {
        "colab": {
          "base_uri": "https://localhost:8080/"
        },
        "id": "huMC3QSgf5al",
        "outputId": "8d60c04e-d672-4eae-fc62-17a2e26eeec0"
      },
      "outputs": [
        {
          "name": "stdout",
          "output_type": "stream",
          "text": [
            "What is a good name for a company that makes colorful socks?\n"
          ]
        }
      ],
      "source": [
        "from langchain import PromptTemplate\n",
        "\n",
        "template = \"What is a good name for a company that makes {product}?\"\n",
        "\n",
        "prompt = PromptTemplate(\n",
        "    input_variables=[\"product\"],\n",
        "    template=template,\n",
        ")\n",
        "\n",
        "test_1 = prompt.format(product=\"colorful socks\")\n",
        "print(test_1)"
      ]
    },
    {
      "cell_type": "code",
      "execution_count": 10,
      "metadata": {
        "colab": {
          "base_uri": "https://localhost:8080/"
        },
        "id": "2zsy1Cb2hK2Q",
        "outputId": "b918f86b-cfe0-431c-dc68-6b0ae4136f9b"
      },
      "outputs": [
        {
          "name": "stdout",
          "output_type": "stream",
          "text": [
            "sock mania\n"
          ]
        }
      ],
      "source": [
        "# use our prompt template in LLMs with `LLMChain`\n",
        "from langchain.chains import LLMChain\n",
        "\n",
        "chain = LLMChain(llm = llm, \n",
        "                  prompt = prompt)\n",
        "\n",
        "# Run the chain only specifying the input variable.\n",
        "test_2 = chain.run(\"colorful socks\")\n",
        "print(test_2)"
      ]
    },
    {
      "cell_type": "code",
      "execution_count": 11,
      "metadata": {
        "colab": {
          "base_uri": "https://localhost:8080/"
        },
        "id": "lNo5C1Z_iGbT",
        "outputId": "6757a5da-69e3-4cb5-f5bb-3878c1c9db00"
      },
      "outputs": [
        {
          "name": "stdout",
          "output_type": "stream",
          "text": [
            "\n",
            "\n",
            "\u001b[1m> Entering new SimpleSequentialChain chain...\u001b[0m\n",
            "\u001b[36;1m\u001b[1;3msock mania\u001b[0m\n",
            "\u001b[33;1m\u001b[1;3msock mania is a company that makes socks\u001b[0m\n",
            "\n",
            "\u001b[1m> Finished chain.\u001b[0m\n"
          ]
        }
      ],
      "source": [
        "# chain the first LLM's output to second LLM's input\n",
        "from langchain.chains import SimpleSequentialChain\n",
        "\n",
        "# Create a second chain with a prompt template and an LLM\n",
        "second_prompt = PromptTemplate(\n",
        "    input_variables=[\"company_name\"],\n",
        "    template=\"Tell me a joke for the following company name: {company_name}\",\n",
        ")\n",
        "\n",
        "chain_two = LLMChain(llm=llm, prompt=second_prompt)\n",
        "\n",
        "# Combine the first and the second chain \n",
        "overall_chain = SimpleSequentialChain(chains=[chain,chain_two]\n",
        "                                      , verbose=True)\n",
        "\n",
        "# Run the chain specifying only the input variable for the first chain.\n",
        "catchphrase = overall_chain.run('colorful socks')"
      ]
    },
    {
      "attachments": {},
      "cell_type": "markdown",
      "metadata": {
        "id": "BQKootg3uzSf"
      },
      "source": [
        "# Access external data (Q&A task)\n",
        "\n"
      ]
    },
    {
      "cell_type": "code",
      "execution_count": 12,
      "metadata": {
        "colab": {
          "base_uri": "https://localhost:8080/"
        },
        "id": "JvoBhQO0nUgi",
        "outputId": "411a0232-560b-46cc-ef6a-1276d62a2c10"
      },
      "outputs": [
        {
          "name": "stdout",
          "output_type": "stream",
          "text": [
            "[Document(page_content=\"(relaxing music) (relaxing music continues) ♪ I heard that you're settled down ♪ ♪ That you found a girl ♪ ♪ And you're married now ♪ ♪ I heard that your dreams came true ♪ ♪ Guess she gave you things ♪ ♪ I didn't give to you ♪ ♪ Old friend, why are you so shy ♪ ♪ Ain't like you to hold back ♪ ♪ Or hide from the light ♪ ♪ I hate to turn up out\\nof the blue, uninvited ♪ ♪ But I couldn't stay away ♪ ♪ I couldn't fight it ♪ ♪ I had hoped you'd see my face ♪ ♪ And that you'd be reminded ♪ ♪ That for me it isn't over ♪ ♪ Never mind, I'll find someone like you ♪ ♪ I wish nothing but\\nthe best for you, too ♪ ♪ Don't forget me I beg ♪ ♪ I remember you said ♪ ♪ Sometimes it lasts in love ♪ ♪ But sometimes it hurts instead ♪ ♪ Sometimes it lasts in love ♪ ♪ But sometimes it hurts instead ♪ ♪ You know how the time flies ♪ ♪ Only yesterday was\\nthe time of our lives ♪ ♪ We were born and\\nraised in a summer haze ♪ ♪ Bound by the surprise\\nof our glory days ♪ ♪ I hate to turn up out\\nof the blue, uninvited ♪ ♪ But I couldn't stay\\naway, I couldn't fight it ♪ ♪ I had hoped you'd see my face ♪ ♪ And that you'd be reminded ♪ ♪ That for me it isn't over ♪ ♪ Never mind, I'll find someone like you ♪ ♪ I wish nothing but\\nthe best for you, too ♪ ♪ Don't forget me, I begged ♪ ♪ I remember you said ♪ ♪ Sometimes it lasts in love ♪ ♪ But sometimes it hurts instead ♪ ♪ Nothing compares, no worries or cares ♪ ♪ Regrets and mistakes,\\nthey're memories made ♪ ♪ Who would have known ♪ ♪ How bittersweet this would taste ♪ ♪ Never mind, I'll find someone like you ♪ ♪ I wish nothing but the best for you ♪ ♪ Don't forget me, I beg ♪ ♪ I remember you said ♪ ♪ Sometimes it lasts in love ♪ ♪ But sometimes it hurts instead ♪ ♪ Never mind, I'll find someone like you ♪ ♪ I wish nothing but\\nthe best for you, too ♪ ♪ Don't forget me, I begged ♪ ♪ I remember you said ♪ ♪ Sometimes it lasts in love ♪ ♪ But sometimes it hurts instead ♪ ♪ Sometimes it lasts in love ♪ ♪ But sometimes it hurts instead ♪ (relaxing music continues)\", metadata={'source': 'hLQl3WQQoQ0'})]\n"
          ]
        }
      ],
      "source": [
        "# pip install youtube-transcript-api\n",
        "# pip install pytube\n",
        "\n",
        "from langchain.document_loaders import YoutubeLoader\n",
        "\n",
        "loader = YoutubeLoader.from_youtube_url(\"https://www.youtube.com/watch?v=hLQl3WQQoQ0\")\n",
        "\n",
        "documents = loader.load()\n",
        "print(documents)"
      ]
    },
    {
      "cell_type": "code",
      "execution_count": 13,
      "metadata": {
        "id": "RytThqUxu4s1"
      },
      "outputs": [],
      "source": [
        "# index with embedding model + store in vector database (for similar search,...)\n",
        "# FAISS doesn't require API keys\n",
        "\n",
        "# pip install faiss-cpu\n",
        "from langchain.vectorstores import FAISS\n",
        "\n",
        "# create the vectorestore to use as the index\n",
        "db = FAISS.from_documents(documents, embeddings)"
      ]
    },
    {
      "cell_type": "code",
      "execution_count": 14,
      "metadata": {
        "colab": {
          "base_uri": "https://localhost:8080/"
        },
        "id": "skK356K7vw90",
        "outputId": "5f69cf78-89a2-4f7b-d149-40044cf01bb2"
      },
      "outputs": [
        {
          "name": "stdout",
          "output_type": "stream",
          "text": [
            "Never mind, I'll find someone like you\n"
          ]
        }
      ],
      "source": [
        "from langchain.chains import RetrievalQA\n",
        "\n",
        "retriever = db.as_retriever()\n",
        "\n",
        "qa = RetrievalQA.from_chain_type(\n",
        "    llm=llm,\n",
        "    chain_type=\"stuff\",\n",
        "    retriever=retriever,\n",
        "    return_source_documents=True\n",
        ")\n",
        "\n",
        "query = \"What's my plan?\"\n",
        "result = qa({\"query\":query})\n",
        "\n",
        "print(result['result'])"
      ]
    }
  ],
  "metadata": {
    "colab": {
      "collapsed_sections": [
        "BZ1xRRUda0P-"
      ],
      "provenance": [],
      "toc_visible": true
    },
    "kernelspec": {
      "display_name": "Python 3",
      "name": "python3"
    },
    "language_info": {
      "name": "python"
    }
  },
  "nbformat": 4,
  "nbformat_minor": 0
}
